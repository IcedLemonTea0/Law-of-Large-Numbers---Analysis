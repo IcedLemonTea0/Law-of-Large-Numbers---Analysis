{
 "cells": [
  {
   "cell_type": "markdown",
   "metadata": {},
   "source": [
    "# Law of Large Numbers"
   ]
  },
  {
   "cell_type": "markdown",
   "metadata": {},
   "source": [
    "Law of Large Numbers is an important theorem in probability theory. It states that if n (number of trials) is large enough, the mean observed (experimental) approaches the expected (theoretical) - given that each trial is independent and random. The theory can be derived as:\n",
    "\n",
    "\\begin{equation*}\n",
    "\\frac{1}{n}\t\\sum_{i=1}^{\\\\n} X_i\t-----> \\mu\n",
    "\\end{equation*}\n",
    "\n",
    "The left side of the above equation observes the experimental mean for each trial. Where X represents the random value with respect to each interval (i) of which is divided by n (number of trials) to get the experimental mean.\n",
    "The right side of the above equation observes the theoretical mean."
   ]
  },
  {
   "cell_type": "markdown",
   "metadata": {},
   "source": [
    "**Weak Law or Strong Law of Large Number**\n",
    "\n",
    "The intuition is very similar and the difference is very miniscule. It all comes down to the deterministic of probability. \n",
    "\n",
    "* In Weak Law of Large numbers, the observed mean converges to the expected mean with probability **near** to 1 \n",
    "* In Strong law of Large numbers, the observed mean converges with probability 1 "
   ]
  },
  {
   "cell_type": "markdown",
   "metadata": {},
   "source": [
    "In this analysis, we will see if experimental mean of n trials will converges to theoretical mean.  We will take an example of coin toss. Let head = 1, tail = 0. We will find the mean for every trials and plot a graph."
   ]
  },
  {
   "cell_type": "code",
   "execution_count": 68,
   "metadata": {},
   "outputs": [],
   "source": [
    "import numpy as np\n",
    "import pandas as pd\n",
    "import matplotlib.pyplot as plt"
   ]
  },
  {
   "cell_type": "code",
   "execution_count": 77,
   "metadata": {},
   "outputs": [
    {
     "data": {
      "image/png": "[encoded data removed]",
      "text/plain": [
       "<Figure size 432x288 with 1 Axes>"
      ]
     },
     "metadata": {
      "needs_background": "light"
     },
     "output_type": "display_data"
    }
   ],
   "source": [
    "n = 2000 # Number of trials\n",
    "\n",
    "coins= np.random.randint(0,2,n)\n",
    "\n",
    "data = []\n",
    "\n",
    "for i in range(coins.size):\n",
    "    \n",
    "    '''\n",
    "        Finds the mean of each trial, it is then appended to our data series\n",
    "    \n",
    "    '''\n",
    "    data.append(coins[:i+1].mean())\n",
    "\n",
    "\n",
    "# Plot \n",
    "\n",
    "plt.plot(data,label = 'Observed Mean')\n",
    "plt.ylim(0,1)\n",
    "plt.axhline(y=.5,color = 'red',ls='--',label = 'Theoretical Mean')\n",
    "plt.legend(loc='upper right')\n",
    "\n",
    "plt.xlabel('Number of trials')\n",
    "plt.ylabel('Mean')\n",
    "plt.tight_layout()\n",
    "plt.show()"
   ]
  },
  {
   "cell_type": "code",
   "execution_count": 78,
   "metadata": {},
   "outputs": [
    {
     "name": "stdout",
     "output_type": "stream",
     "text": [
      "n = 2000 Experimental Mean: 0.4908 \n",
      "% Error: 1.84 %\n"
     ]
    }
   ],
   "source": [
    "mean = round(np.mean(data),4)\n",
    "percent_error = round(abs((mean-.5)/.5*100),4)\n",
    "\n",
    "print('n = {} Experimental Mean: {} '.format(i+1,mean))\n",
    "print('% Error:', percent_error,'%')"
   ]
  },
  {
   "cell_type": "markdown",
   "metadata": {},
   "source": [
    "**Insight:**\n",
    "\n",
    "The graph describes that when a given sample is small i.e n value is small, the experimental mean are more sporadic and thus would not best represent the true population. However, as n is countably infinite, the experimental mean converges towards its true mean. The intuition of this exercise is to understand that a single or small sample of observation is not enough to convey/represent the whole population/data. We figure this out by comparing % Error. As n increases, % Error decreases.\n",
    "\n",
    "It is extremely fundamental for Machine Learning purposes while training our model. A small sample of datasets may not be the best representation of the entire unknown datasets.   "
   ]
  },
  {
   "cell_type": "code",
   "execution_count": null,
   "metadata": {},
   "outputs": [],
   "source": []
  }
 ],
 "metadata": {
  "kernelspec": {
   "display_name": "Python 3",
   "language": "python",
   "name": "python3"
  },
  "language_info": {
   "codemirror_mode": {
    "name": "ipython",
    "version": 3
   },
   "file_extension": ".py",
   "mimetype": "text/x-python",
   "name": "python",
   "nbconvert_exporter": "python",
   "pygments_lexer": "ipython3",
   "version": "3.7.3"
  }
 },
 "nbformat": 4,
 "nbformat_minor": 2
}
